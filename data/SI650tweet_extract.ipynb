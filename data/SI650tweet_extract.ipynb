{
  "nbformat": 4,
  "nbformat_minor": 0,
  "metadata": {
    "colab": {
      "name": "SI650tweet_extract.ipynb",
      "provenance": []
    },
    "kernelspec": {
      "name": "python3",
      "display_name": "Python 3"
    }
  },
  "cells": [
    {
      "cell_type": "code",
      "metadata": {
        "id": "5TFDiwVIRAB1",
        "colab_type": "code",
        "colab": {}
      },
      "source": [
        "import pandas as pd\n",
        "import json"
      ],
      "execution_count": 0,
      "outputs": []
    },
    {
      "cell_type": "code",
      "metadata": {
        "id": "VeP4AtBGSyWk",
        "colab_type": "code",
        "colab": {}
      },
      "source": [
        "with open('12101830.txt') as f:\n",
        "  tweets_read = f.read().split('\\n')\n",
        "  tweets = []\n",
        "  tweets_text = []\n",
        "  for t in tweets_read:\n",
        "    if t == '':\n",
        "      continue\n",
        "\n",
        "    tweets.append(t)\n",
        "\n",
        "    tweet_json = json.loads(t)\n",
        "    if 'retweeted_status' in tweet_json and 'extended_tweet' in tweet_json['retweeted_status']:\n",
        "      tweets_text.append(tweet_json['retweeted_status']['extended_tweet']['full_text'])\n",
        "    else:\n",
        "      tweets_text.append(tweet_json['text'])\n",
        "    "
      ],
      "execution_count": 0,
      "outputs": []
    },
    {
      "cell_type": "code",
      "metadata": {
        "id": "UUWejIePUSv7",
        "colab_type": "code",
        "colab": {
          "base_uri": "https://localhost:8080/",
          "height": 71
        },
        "outputId": "e2cb6041-4475-4123-8723-7b40d57e1d6b"
      },
      "source": [
        "tweets[:2]"
      ],
      "execution_count": 17,
      "outputs": [
        {
          "output_type": "execute_result",
          "data": {
            "text/plain": [
              "['{\"created_at\":\"Tue Dec 10 19:55:40 +0000 2019\",\"id\":1204489879670775808,\"id_str\":\"1204489879670775808\",\"text\":\"RT @RyanGirdusky: According to new Monmouth poll, Trump\\'s favorability among independents is double digits higher than any Democrat:\\\\n\\\\nTrump\\\\u2026\",\"source\":\"\\\\u003ca href=\\\\\"http:\\\\/\\\\/twitter.com\\\\/download\\\\/android\\\\\" rel=\\\\\"nofollow\\\\\"\\\\u003eTwitter for Android\\\\u003c\\\\/a\\\\u003e\",\"truncated\":false,\"in_reply_to_status_id\":null,\"in_reply_to_status_id_str\":null,\"in_reply_to_user_id\":null,\"in_reply_to_user_id_str\":null,\"in_reply_to_screen_name\":null,\"user\":{\"id\":1154250308106641408,\"id_str\":\"1154250308106641408\",\"name\":\"Phil McClure \\\\ud83c\\\\udfb6\",\"screen_name\":\"mcclure_phil\",\"location\":\"Springfield, IL\",\"url\":null,\"description\":\"Simpsons fan and passive observer\",\"translator_type\":\"none\",\"protected\":false,\"verified\":false,\"followers_count\":150,\"friends_count\":1463,\"listed_count\":0,\"favourites_count\":2396,\"statuses_count\":308,\"created_at\":\"Thu Jul 25 04:41:33 +0000 2019\",\"utc_offset\":null,\"time_zone\":null,\"geo_enabled\":false,\"lang\":null,\"contributors_enabled\":false,\"is_translator\":false,\"profile_background_color\":\"F5F8FA\",\"profile_background_image_url\":\"\",\"profile_background_image_url_https\":\"\",\"profile_background_tile\":false,\"profile_link_color\":\"1DA1F2\",\"profile_sidebar_border_color\":\"C0DEED\",\"profile_sidebar_fill_color\":\"DDEEF6\",\"profile_text_color\":\"333333\",\"profile_use_background_image\":true,\"profile_image_url\":\"http:\\\\/\\\\/pbs.twimg.com\\\\/profile_images\\\\/1154250488017084416\\\\/jeZ4c53Q_normal.jpg\",\"profile_image_url_https\":\"https:\\\\/\\\\/pbs.twimg.com\\\\/profile_images\\\\/1154250488017084416\\\\/jeZ4c53Q_normal.jpg\",\"profile_banner_url\":\"https:\\\\/\\\\/pbs.twimg.com\\\\/profile_banners\\\\/1154250308106641408\\\\/1565933456\",\"default_profile\":true,\"default_profile_image\":false,\"following\":null,\"follow_request_sent\":null,\"notifications\":null},\"geo\":null,\"coordinates\":null,\"place\":null,\"contributors\":null,\"retweeted_status\":{\"created_at\":\"Tue Dec 10 16:32:58 +0000 2019\",\"id\":1204438868176654337,\"id_str\":\"1204438868176654337\",\"text\":\"According to new Monmouth poll, Trump\\'s favorability among independents is double digits higher than any Democrat:\\\\u2026 https:\\\\/\\\\/t.co\\\\/HxFqHcLVnE\",\"source\":\"\\\\u003ca href=\\\\\"https:\\\\/\\\\/mobile.twitter.com\\\\\" rel=\\\\\"nofollow\\\\\"\\\\u003eTwitter Web App\\\\u003c\\\\/a\\\\u003e\",\"truncated\":true,\"in_reply_to_status_id\":null,\"in_reply_to_status_id_str\":null,\"in_reply_to_user_id\":null,\"in_reply_to_user_id_str\":null,\"in_reply_to_screen_name\":null,\"user\":{\"id\":855318254,\"id_str\":\"855318254\",\"name\":\"Ryan James Girdusky\",\"screen_name\":\"RyanGirdusky\",\"location\":\"New York City\",\"url\":\"https:\\\\/\\\\/ryangirdusky.com\\\\/\",\"description\":\"Native New Yorker. Roman Catholic.\\\\n\\\\nSign up for my newsletter on National Populism here:\\\\nhttp:\\\\/\\\\/ryangirdusky.com\\\\/newsletter\\\\/\",\"translator_type\":\"none\",\"protected\":false,\"verified\":true,\"followers_count\":24700,\"friends_count\":898,\"listed_count\":321,\"favourites_count\":34734,\"statuses_count\":59897,\"created_at\":\"Sun Sep 30 20:35:09 +0000 2012\",\"utc_offset\":null,\"time_zone\":null,\"geo_enabled\":false,\"lang\":null,\"contributors_enabled\":false,\"is_translator\":false,\"profile_background_color\":\"C6E2EE\",\"profile_background_image_url\":\"http:\\\\/\\\\/abs.twimg.com\\\\/images\\\\/themes\\\\/theme2\\\\/bg.gif\",\"profile_background_image_url_https\":\"https:\\\\/\\\\/abs.twimg.com\\\\/images\\\\/themes\\\\/theme2\\\\/bg.gif\",\"profile_background_tile\":false,\"profile_link_color\":\"ABB8C2\",\"profile_sidebar_border_color\":\"FFFFFF\",\"profile_sidebar_fill_color\":\"DAECF4\",\"profile_text_color\":\"663B12\",\"profile_use_background_image\":true,\"profile_image_url\":\"http:\\\\/\\\\/pbs.twimg.com\\\\/profile_images\\\\/934301019961303042\\\\/AzDwSO4n_normal.jpg\",\"profile_image_url_https\":\"https:\\\\/\\\\/pbs.twimg.com\\\\/profile_images\\\\/934301019961303042\\\\/AzDwSO4n_normal.jpg\",\"profile_banner_url\":\"https:\\\\/\\\\/pbs.twimg.com\\\\/profile_banners\\\\/855318254\\\\/1468822916\",\"default_profile\":false,\"default_profile_image\":false,\"following\":null,\"follow_request_sent\":null,\"notifications\":null},\"geo\":null,\"coordinates\":null,\"place\":null,\"contributors\":null,\"is_quote_status\":false,\"extended_tweet\":{\"full_text\":\"According to new Monmouth poll, Trump\\'s favorability among independents is double digits higher than any Democrat:\\\\n\\\\nTrump: 49\\\\/48\\\\nSanders: 39\\\\/56\\\\nBiden: 38\\\\/57\\\\nButtigieg: 34\\\\/33\\\\nWarren: 32\\\\/55\\\\nBloomberg: 25\\\\/56\",\"display_text_range\":[0,204],\"entities\":{\"hashtags\":[],\"urls\":[],\"user_mentions\":[],\"symbols\":[]}},\"quote_count\":27,\"reply_count\":18,\"retweet_count\":162,\"favorite_count\":310,\"entities\":{\"hashtags\":[],\"urls\":[{\"url\":\"https:\\\\/\\\\/t.co\\\\/HxFqHcLVnE\",\"expanded_url\":\"https:\\\\/\\\\/twitter.com\\\\/i\\\\/web\\\\/status\\\\/1204438868176654337\",\"display_url\":\"twitter.com\\\\/i\\\\/web\\\\/status\\\\/1\\\\u2026\",\"indices\":[116,139]}],\"user_mentions\":[],\"symbols\":[]},\"favorited\":false,\"retweeted\":false,\"filter_level\":\"low\",\"lang\":\"en\"},\"is_quote_status\":false,\"quote_count\":0,\"reply_count\":0,\"retweet_count\":0,\"favorite_count\":0,\"entities\":{\"hashtags\":[],\"urls\":[],\"user_mentions\":[{\"screen_name\":\"RyanGirdusky\",\"name\":\"Ryan James Girdusky\",\"id\":855318254,\"id_str\":\"855318254\",\"indices\":[3,16]}],\"symbols\":[]},\"favorited\":false,\"retweeted\":false,\"filter_level\":\"low\",\"lang\":\"en\",\"timestamp_ms\":\"1576007740310\"}',\n",
              " '{\"created_at\":\"Tue Dec 10 19:55:40 +0000 2019\",\"id\":1204489881558360064,\"id_str\":\"1204489881558360064\",\"text\":\"RT @seanhannity: Ouch! https:\\\\/\\\\/t.co\\\\/sonysJfPrm\",\"source\":\"\\\\u003ca href=\\\\\"http:\\\\/\\\\/twitter.com\\\\/download\\\\/android\\\\\" rel=\\\\\"nofollow\\\\\"\\\\u003eTwitter for Android\\\\u003c\\\\/a\\\\u003e\",\"truncated\":false,\"in_reply_to_status_id\":null,\"in_reply_to_status_id_str\":null,\"in_reply_to_user_id\":null,\"in_reply_to_user_id_str\":null,\"in_reply_to_screen_name\":null,\"user\":{\"id\":870853309443301376,\"id_str\":\"870853309443301376\",\"name\":\"CRiggs\",\"screen_name\":\"CRiggsfdaleny\",\"location\":\"East Farmingdale, NY\",\"url\":null,\"description\":null,\"translator_type\":\"none\",\"protected\":false,\"verified\":false,\"followers_count\":270,\"friends_count\":82,\"listed_count\":0,\"favourites_count\":16992,\"statuses_count\":3563,\"created_at\":\"Sat Jun 03 04:03:03 +0000 2017\",\"utc_offset\":null,\"time_zone\":null,\"geo_enabled\":false,\"lang\":null,\"contributors_enabled\":false,\"is_translator\":false,\"profile_background_color\":\"F5F8FA\",\"profile_background_image_url\":\"\",\"profile_background_image_url_https\":\"\",\"profile_background_tile\":false,\"profile_link_color\":\"1DA1F2\",\"profile_sidebar_border_color\":\"C0DEED\",\"profile_sidebar_fill_color\":\"DDEEF6\",\"profile_text_color\":\"333333\",\"profile_use_background_image\":true,\"profile_image_url\":\"http:\\\\/\\\\/pbs.twimg.com\\\\/profile_images\\\\/871930343032598529\\\\/wn_mAool_normal.jpg\",\"profile_image_url_https\":\"https:\\\\/\\\\/pbs.twimg.com\\\\/profile_images\\\\/871930343032598529\\\\/wn_mAool_normal.jpg\",\"profile_banner_url\":\"https:\\\\/\\\\/pbs.twimg.com\\\\/profile_banners\\\\/870853309443301376\\\\/1496719408\",\"default_profile\":true,\"default_profile_image\":false,\"following\":null,\"follow_request_sent\":null,\"notifications\":null},\"geo\":null,\"coordinates\":null,\"place\":null,\"contributors\":null,\"retweeted_status\":{\"created_at\":\"Tue Dec 10 19:50:05 +0000 2019\",\"id\":1204488474113564672,\"id_str\":\"1204488474113564672\",\"text\":\"Ouch! https:\\\\/\\\\/t.co\\\\/sonysJfPrm\",\"source\":\"\\\\u003ca href=\\\\\"https:\\\\/\\\\/www.hootsuite.com\\\\\" rel=\\\\\"nofollow\\\\\"\\\\u003eHootsuite Inc.\\\\u003c\\\\/a\\\\u003e\",\"truncated\":false,\"in_reply_to_status_id\":null,\"in_reply_to_status_id_str\":null,\"in_reply_to_user_id\":null,\"in_reply_to_user_id_str\":null,\"in_reply_to_screen_name\":null,\"user\":{\"id\":41634520,\"id_str\":\"41634520\",\"name\":\"Sean Hannity\",\"screen_name\":\"seanhannity\",\"location\":\"NYC\",\"url\":\"http:\\\\/\\\\/hannity.com\",\"description\":\"TV Host Fox News Channel 9 PM EST. Nationally Syndicated Radio Host 3-6 PM EST. http:\\\\/\\\\/Hannity.com Retweets, Follows NOT endorsements! Due to hackings, no DM\\\\u2019s!\",\"translator_type\":\"none\",\"protected\":false,\"verified\":true,\"followers_count\":4383192,\"friends_count\":6,\"listed_count\":19314,\"favourites_count\":106,\"statuses_count\":1876,\"created_at\":\"Thu May 21 17:41:12 +0000 2009\",\"utc_offset\":null,\"time_zone\":null,\"geo_enabled\":false,\"lang\":null,\"contributors_enabled\":false,\"is_translator\":false,\"profile_background_color\":\"663333\",\"profile_background_image_url\":\"http:\\\\/\\\\/abs.twimg.com\\\\/images\\\\/themes\\\\/theme1\\\\/bg.png\",\"profile_background_image_url_https\":\"https:\\\\/\\\\/abs.twimg.com\\\\/images\\\\/themes\\\\/theme1\\\\/bg.png\",\"profile_background_tile\":false,\"profile_link_color\":\"0084B4\",\"profile_sidebar_border_color\":\"000000\",\"profile_sidebar_fill_color\":\"CCCCFF\",\"profile_text_color\":\"000000\",\"profile_use_background_image\":true,\"profile_image_url\":\"http:\\\\/\\\\/pbs.twimg.com\\\\/profile_images\\\\/378800000709183776\\\\/6273b31aa1836ac86426478aaa82a597_normal.jpeg\",\"profile_image_url_https\":\"https:\\\\/\\\\/pbs.twimg.com\\\\/profile_images\\\\/378800000709183776\\\\/6273b31aa1836ac86426478aaa82a597_normal.jpeg\",\"profile_banner_url\":\"https:\\\\/\\\\/pbs.twimg.com\\\\/profile_banners\\\\/41634520\\\\/1398970584\",\"default_profile\":false,\"default_profile_image\":false,\"following\":null,\"follow_request_sent\":null,\"notifications\":null},\"geo\":null,\"coordinates\":null,\"place\":null,\"contributors\":null,\"is_quote_status\":false,\"quote_count\":7,\"reply_count\":65,\"retweet_count\":103,\"favorite_count\":358,\"entities\":{\"hashtags\":[],\"urls\":[{\"url\":\"https:\\\\/\\\\/t.co\\\\/sonysJfPrm\",\"expanded_url\":\"https:\\\\/\\\\/hannity.com\\\\/media-room\\\\/dont-like-mike-new-polls-show-bloomberg-widely-unpopular-with-voters-after-campaign-launch\\\\/\",\"display_url\":\"hannity.com\\\\/media-room\\\\/don\\\\u2026\",\"indices\":[6,29]}],\"user_mentions\":[],\"symbols\":[]},\"favorited\":false,\"retweeted\":false,\"possibly_sensitive\":false,\"filter_level\":\"low\",\"lang\":\"en\"},\"is_quote_status\":false,\"quote_count\":0,\"reply_count\":0,\"retweet_count\":0,\"favorite_count\":0,\"entities\":{\"hashtags\":[],\"urls\":[{\"url\":\"https:\\\\/\\\\/t.co\\\\/sonysJfPrm\",\"expanded_url\":\"https:\\\\/\\\\/hannity.com\\\\/media-room\\\\/dont-like-mike-new-polls-show-bloomberg-widely-unpopular-with-voters-after-campaign-launch\\\\/\",\"display_url\":\"hannity.com\\\\/media-room\\\\/don\\\\u2026\",\"indices\":[23,46]}],\"user_mentions\":[{\"screen_name\":\"seanhannity\",\"name\":\"Sean Hannity\",\"id\":41634520,\"id_str\":\"41634520\",\"indices\":[3,15]}],\"symbols\":[]},\"favorited\":false,\"retweeted\":false,\"possibly_sensitive\":false,\"filter_level\":\"low\",\"lang\":\"en\",\"timestamp_ms\":\"1576007740760\"}']"
            ]
          },
          "metadata": {
            "tags": []
          },
          "execution_count": 17
        }
      ]
    },
    {
      "cell_type": "code",
      "metadata": {
        "id": "EX9gJ2rxWslt",
        "colab_type": "code",
        "colab": {}
      },
      "source": [
        "tweets_text = []\n",
        "for t in tweets:\n",
        "  tweet_json = json.loads(t)\n",
        "  # print(tweet_json)\n",
        "  # print(tweet_json['retweeted_status']['extended_tweet']['full_text'])\n",
        "  # break\n",
        "  if 'retweeted_status' in tweet_json and 'extended_tweet' in tweet_json['retweeted_status']:\n",
        "    tweets_text.append(tweet_json['retweeted_status']['extended_tweet']['full_text'])\n",
        "  else:\n",
        "    tweets_text.append(tweet_json['text'])"
      ],
      "execution_count": 0,
      "outputs": []
    },
    {
      "cell_type": "code",
      "metadata": {
        "id": "cWyFFkr7Wsof",
        "colab_type": "code",
        "colab": {}
      },
      "source": [
        "df_2 = pd.DataFrame()\n",
        "df_2['text'] = tweets_text"
      ],
      "execution_count": 0,
      "outputs": []
    },
    {
      "cell_type": "code",
      "metadata": {
        "id": "MdHpKWasmwZ8",
        "colab_type": "code",
        "colab": {
          "base_uri": "https://localhost:8080/",
          "height": 190
        },
        "outputId": "001242fe-13bb-4ef8-d3af-12717306ff25"
      },
      "source": [
        "!pip install tweet-preprocessor"
      ],
      "execution_count": 40,
      "outputs": [
        {
          "output_type": "stream",
          "text": [
            "Collecting tweet-preprocessor\n",
            "  Downloading https://files.pythonhosted.org/packages/2a/f8/810ec35c31cca89bc4f1a02c14b042b9ec6c19dd21f7ef1876874ef069a6/tweet-preprocessor-0.5.0.tar.gz\n",
            "Building wheels for collected packages: tweet-preprocessor\n",
            "  Building wheel for tweet-preprocessor (setup.py) ... \u001b[?25l\u001b[?25hdone\n",
            "  Created wheel for tweet-preprocessor: filename=tweet_preprocessor-0.5.0-cp36-none-any.whl size=7947 sha256=3fefbece720c65ca2773397dc06a178ae32bf983cd77fa817dbf0e14e3122220\n",
            "  Stored in directory: /root/.cache/pip/wheels/1b/27/cc/49938e98a2470802ebdefae9d2b3f524768e970c1ebbe2dc4a\n",
            "Successfully built tweet-preprocessor\n",
            "Installing collected packages: tweet-preprocessor\n",
            "Successfully installed tweet-preprocessor-0.5.0\n"
          ],
          "name": "stdout"
        }
      ]
    },
    {
      "cell_type": "code",
      "metadata": {
        "id": "8FmipIKSnF9f",
        "colab_type": "code",
        "colab": {
          "base_uri": "https://localhost:8080/",
          "height": 102
        },
        "outputId": "e28be75e-ae90-4f7c-85be-77ea091b1242"
      },
      "source": [
        "import nltk\n",
        "nltk.download('stopwords')\n",
        "nltk.download('punkt')"
      ],
      "execution_count": 46,
      "outputs": [
        {
          "output_type": "stream",
          "text": [
            "[nltk_data] Downloading package stopwords to /root/nltk_data...\n",
            "[nltk_data]   Package stopwords is already up-to-date!\n",
            "[nltk_data] Downloading package punkt to /root/nltk_data...\n",
            "[nltk_data]   Unzipping tokenizers/punkt.zip.\n"
          ],
          "name": "stdout"
        },
        {
          "output_type": "execute_result",
          "data": {
            "text/plain": [
              "True"
            ]
          },
          "metadata": {
            "tags": []
          },
          "execution_count": 46
        }
      ]
    },
    {
      "cell_type": "code",
      "metadata": {
        "id": "46jD6TUymnuK",
        "colab_type": "code",
        "colab": {}
      },
      "source": [
        "def preproccessing(text, query_lst=[]):\n",
        "#     !pip install tweet-preprocessor\n",
        "    import preprocessor as p\n",
        "    from nltk.corpus import stopwords \n",
        "    from nltk.tokenize import word_tokenize\n",
        "    \n",
        "    stop_words = list(stopwords.words('english'))\n",
        "    for w in query_lst:\n",
        "        stop_words.append(w)\n",
        "    stop_words = set(stop_words)\n",
        "    \n",
        "    corpus = []\n",
        "    original = []\n",
        "    for t in text:\n",
        "        sent = p.clean(t)\n",
        "        word_tokens = word_tokenize(sent) \n",
        "        filtered_sentence = [w for w in word_tokens if not w in stop_words]\n",
        "        sent = \" \".join(filtered_sentence)\n",
        "\n",
        "        original.append(t)\n",
        "        corpus.append(sent)\n",
        "\n",
        "    return original, corpus"
      ],
      "execution_count": 0,
      "outputs": []
    },
    {
      "cell_type": "code",
      "metadata": {
        "id": "6I9cyWn-m1qJ",
        "colab_type": "code",
        "colab": {}
      },
      "source": [
        "original_t, corpus_t = preproccessing(tweets_text)\n",
        "df_2 = pd.DataFrame()\n",
        "df_2['text'] = original_t\n",
        "df_2['processed'] = corpus_t"
      ],
      "execution_count": 0,
      "outputs": []
    },
    {
      "cell_type": "code",
      "metadata": {
        "id": "cawawQ2xWsrl",
        "colab_type": "code",
        "colab": {
          "base_uri": "https://localhost:8080/",
          "height": 204
        },
        "outputId": "e880309c-1508-4891-fbbc-2b06a9c033fd"
      },
      "source": [
        "df_2.head()"
      ],
      "execution_count": 55,
      "outputs": [
        {
          "output_type": "execute_result",
          "data": {
            "text/html": [
              "<div>\n",
              "<style scoped>\n",
              "    .dataframe tbody tr th:only-of-type {\n",
              "        vertical-align: middle;\n",
              "    }\n",
              "\n",
              "    .dataframe tbody tr th {\n",
              "        vertical-align: top;\n",
              "    }\n",
              "\n",
              "    .dataframe thead th {\n",
              "        text-align: right;\n",
              "    }\n",
              "</style>\n",
              "<table border=\"1\" class=\"dataframe\">\n",
              "  <thead>\n",
              "    <tr style=\"text-align: right;\">\n",
              "      <th></th>\n",
              "      <th>text</th>\n",
              "      <th>processed</th>\n",
              "    </tr>\n",
              "  </thead>\n",
              "  <tbody>\n",
              "    <tr>\n",
              "      <th>0</th>\n",
              "      <td>RT @AndrewYang: Los Angeles here we come!  Tha...</td>\n",
              "      <td>: Los Angeles come ! Thank ’ done without !</td>\n",
              "    </tr>\n",
              "    <tr>\n",
              "      <th>1</th>\n",
              "      <td>According to new Monmouth poll, Trump's favora...</td>\n",
              "      <td>According new Monmouth poll , Trump 's favorab...</td>\n",
              "    </tr>\n",
              "    <tr>\n",
              "      <th>2</th>\n",
              "      <td>RT @BernieSanders: Young people are ready for ...</td>\n",
              "      <td>: Young people ready political revolution .</td>\n",
              "    </tr>\n",
              "    <tr>\n",
              "      <th>3</th>\n",
              "      <td>RT @BernieSanders: Young people are ready for ...</td>\n",
              "      <td>: Young people ready political revolution .</td>\n",
              "    </tr>\n",
              "    <tr>\n",
              "      <th>4</th>\n",
              "      <td>RT @parscale: He would eat you alive too, exce...</td>\n",
              "      <td>: He would eat alive , except campaign already...</td>\n",
              "    </tr>\n",
              "  </tbody>\n",
              "</table>\n",
              "</div>"
            ],
            "text/plain": [
              "                                                text                                          processed\n",
              "0  RT @AndrewYang: Los Angeles here we come!  Tha...        : Los Angeles come ! Thank ’ done without !\n",
              "1  According to new Monmouth poll, Trump's favora...  According new Monmouth poll , Trump 's favorab...\n",
              "2  RT @BernieSanders: Young people are ready for ...        : Young people ready political revolution .\n",
              "3  RT @BernieSanders: Young people are ready for ...        : Young people ready political revolution .\n",
              "4  RT @parscale: He would eat you alive too, exce...  : He would eat alive , except campaign already..."
            ]
          },
          "metadata": {
            "tags": []
          },
          "execution_count": 55
        }
      ]
    },
    {
      "cell_type": "code",
      "metadata": {
        "id": "Vzn8zyugnPJS",
        "colab_type": "code",
        "colab": {}
      },
      "source": [
        "df_2.to_csv(r'12101830.csv', index=False)"
      ],
      "execution_count": 0,
      "outputs": []
    },
    {
      "cell_type": "code",
      "metadata": {
        "id": "LHVDA_E0oNo3",
        "colab_type": "code",
        "colab": {
          "base_uri": "https://localhost:8080/",
          "height": 34
        },
        "outputId": "833b021c-ee36-45f8-ddb6-0dafe22ff114"
      },
      "source": [
        "df_2.shape"
      ],
      "execution_count": 58,
      "outputs": [
        {
          "output_type": "execute_result",
          "data": {
            "text/plain": [
              "(24475, 2)"
            ]
          },
          "metadata": {
            "tags": []
          },
          "execution_count": 58
        }
      ]
    }
  ]
}